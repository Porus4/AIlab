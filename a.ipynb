{
 "cells": [
  {
   "cell_type": "code",
   "execution_count": 2,
   "metadata": {},
   "outputs": [
    {
     "name": "stdout",
     "output_type": "stream",
     "text": [
      "Requirement already satisfied: pandas in c:\\users\\home\\appdata\\local\\packages\\pythonsoftwarefoundation.python.3.11_qbz5n2kfra8p0\\localcache\\local-packages\\python311\\site-packages (2.2.2)\n",
      "Requirement already satisfied: numpy>=1.23.2 in c:\\users\\home\\appdata\\local\\packages\\pythonsoftwarefoundation.python.3.11_qbz5n2kfra8p0\\localcache\\local-packages\\python311\\site-packages (from pandas) (1.26.4)\n",
      "Requirement already satisfied: python-dateutil>=2.8.2 in c:\\users\\home\\appdata\\local\\packages\\pythonsoftwarefoundation.python.3.11_qbz5n2kfra8p0\\localcache\\local-packages\\python311\\site-packages (from pandas) (2.9.0.post0)\n",
      "Requirement already satisfied: pytz>=2020.1 in c:\\users\\home\\appdata\\local\\packages\\pythonsoftwarefoundation.python.3.11_qbz5n2kfra8p0\\localcache\\local-packages\\python311\\site-packages (from pandas) (2024.1)\n",
      "Requirement already satisfied: tzdata>=2022.7 in c:\\users\\home\\appdata\\local\\packages\\pythonsoftwarefoundation.python.3.11_qbz5n2kfra8p0\\localcache\\local-packages\\python311\\site-packages (from pandas) (2024.1)\n",
      "Requirement already satisfied: six>=1.5 in c:\\users\\home\\appdata\\local\\packages\\pythonsoftwarefoundation.python.3.11_qbz5n2kfra8p0\\localcache\\local-packages\\python311\\site-packages (from python-dateutil>=2.8.2->pandas) (1.16.0)\n",
      "Note: you may need to restart the kernel to use updated packages.\n"
     ]
    }
   ],
   "source": [
    "pip install pandas"
   ]
  },
  {
   "cell_type": "code",
   "execution_count": 3,
   "metadata": {},
   "outputs": [
    {
     "data": {
      "text/html": [
       "<div>\n",
       "<style scoped>\n",
       "    .dataframe tbody tr th:only-of-type {\n",
       "        vertical-align: middle;\n",
       "    }\n",
       "\n",
       "    .dataframe tbody tr th {\n",
       "        vertical-align: top;\n",
       "    }\n",
       "\n",
       "    .dataframe thead th {\n",
       "        text-align: right;\n",
       "    }\n",
       "</style>\n",
       "<table border=\"1\" class=\"dataframe\">\n",
       "  <thead>\n",
       "    <tr style=\"text-align: right;\">\n",
       "      <th></th>\n",
       "      <th>Sl.No.</th>\n",
       "      <th>Roll No.</th>\n",
       "      <th>Name of the Student</th>\n",
       "      <th>Company</th>\n",
       "      <th>CTC(Rs.inLakhs)</th>\n",
       "      <th>Branch</th>\n",
       "      <th>Unnamed: 6</th>\n",
       "    </tr>\n",
       "  </thead>\n",
       "  <tbody>\n",
       "    <tr>\n",
       "      <th>0</th>\n",
       "      <td>1</td>\n",
       "      <td>1.601210e+11</td>\n",
       "      <td>Meghana Sreeya Veeramallu</td>\n",
       "      <td>Atlassian</td>\n",
       "      <td>5990000</td>\n",
       "      <td>Computer Science &amp; Engineering</td>\n",
       "      <td>NaN</td>\n",
       "    </tr>\n",
       "    <tr>\n",
       "      <th>1</th>\n",
       "      <td>2</td>\n",
       "      <td>1.601210e+11</td>\n",
       "      <td>Bhavana Kodali</td>\n",
       "      <td>Microsoft</td>\n",
       "      <td>4900000</td>\n",
       "      <td>Computer Science &amp; Engineering</td>\n",
       "      <td>NaN</td>\n",
       "    </tr>\n",
       "    <tr>\n",
       "      <th>2</th>\n",
       "      <td>3</td>\n",
       "      <td>1.601210e+11</td>\n",
       "      <td>Parveen Arshia</td>\n",
       "      <td>Microsoft</td>\n",
       "      <td>4900000</td>\n",
       "      <td>Computer Science &amp; Engineering</td>\n",
       "      <td>NaN</td>\n",
       "    </tr>\n",
       "    <tr>\n",
       "      <th>3</th>\n",
       "      <td>4</td>\n",
       "      <td>1.601210e+11</td>\n",
       "      <td>Asritha D</td>\n",
       "      <td>Salesforce</td>\n",
       "      <td>4450000</td>\n",
       "      <td>Computer Science &amp; Engineering</td>\n",
       "      <td>NaN</td>\n",
       "    </tr>\n",
       "    <tr>\n",
       "      <th>4</th>\n",
       "      <td>5</td>\n",
       "      <td>1.601210e+11</td>\n",
       "      <td>Sai Sahithi Kosaraju</td>\n",
       "      <td>Salesforce</td>\n",
       "      <td>4450000</td>\n",
       "      <td>Computer Science &amp; Engineering</td>\n",
       "      <td>NaN</td>\n",
       "    </tr>\n",
       "    <tr>\n",
       "      <th>...</th>\n",
       "      <td>...</td>\n",
       "      <td>...</td>\n",
       "      <td>...</td>\n",
       "      <td>...</td>\n",
       "      <td>...</td>\n",
       "      <td>...</td>\n",
       "      <td>...</td>\n",
       "    </tr>\n",
       "    <tr>\n",
       "      <th>490</th>\n",
       "      <td>491</td>\n",
       "      <td>1.601210e+11</td>\n",
       "      <td>Jupaka Jupaka Ravivarma</td>\n",
       "      <td>Axis Energy Group</td>\n",
       "      <td>400000</td>\n",
       "      <td>Civil Engineering</td>\n",
       "      <td>NaN</td>\n",
       "    </tr>\n",
       "    <tr>\n",
       "      <th>491</th>\n",
       "      <td>492</td>\n",
       "      <td>1.601210e+11</td>\n",
       "      <td>Pranay Kumar T</td>\n",
       "      <td>INOX Air Products Private Limited</td>\n",
       "      <td>375000</td>\n",
       "      <td>Chemical Engineering</td>\n",
       "      <td>NaN</td>\n",
       "    </tr>\n",
       "    <tr>\n",
       "      <th>492</th>\n",
       "      <td>493</td>\n",
       "      <td>1.601210e+11</td>\n",
       "      <td>Kurmapu Sai Kiran</td>\n",
       "      <td>INOX Air Products Private Limited</td>\n",
       "      <td>375000</td>\n",
       "      <td>Mechanical Engineering</td>\n",
       "      <td>NaN</td>\n",
       "    </tr>\n",
       "    <tr>\n",
       "      <th>493</th>\n",
       "      <td>494</td>\n",
       "      <td>1.601210e+11</td>\n",
       "      <td>Manideep Dasari</td>\n",
       "      <td>Dravin Engineering Pvt Ltd</td>\n",
       "      <td>375000</td>\n",
       "      <td>Mechanical Engineering</td>\n",
       "      <td>NaN</td>\n",
       "    </tr>\n",
       "    <tr>\n",
       "      <th>494</th>\n",
       "      <td>495</td>\n",
       "      <td>1.601210e+11</td>\n",
       "      <td>Mushini Narender</td>\n",
       "      <td>INOX Air Products Private Limited</td>\n",
       "      <td>375000</td>\n",
       "      <td>Mechanical Engineering</td>\n",
       "      <td>NaN</td>\n",
       "    </tr>\n",
       "  </tbody>\n",
       "</table>\n",
       "<p>495 rows × 7 columns</p>\n",
       "</div>"
      ],
      "text/plain": [
       "     Sl.No.      Roll No.        Name of the Student  \\\n",
       "0         1  1.601210e+11  Meghana Sreeya Veeramallu   \n",
       "1         2  1.601210e+11             Bhavana Kodali   \n",
       "2         3  1.601210e+11             Parveen Arshia   \n",
       "3         4  1.601210e+11                  Asritha D   \n",
       "4         5  1.601210e+11       Sai Sahithi Kosaraju   \n",
       "..      ...           ...                        ...   \n",
       "490     491  1.601210e+11    Jupaka Jupaka Ravivarma   \n",
       "491     492  1.601210e+11             Pranay Kumar T   \n",
       "492     493  1.601210e+11          Kurmapu Sai Kiran   \n",
       "493     494  1.601210e+11            Manideep Dasari   \n",
       "494     495  1.601210e+11           Mushini Narender   \n",
       "\n",
       "                               Company  CTC(Rs.inLakhs)  \\\n",
       "0                            Atlassian          5990000   \n",
       "1                            Microsoft          4900000   \n",
       "2                            Microsoft          4900000   \n",
       "3                           Salesforce          4450000   \n",
       "4                           Salesforce          4450000   \n",
       "..                                 ...              ...   \n",
       "490                  Axis Energy Group           400000   \n",
       "491  INOX Air Products Private Limited           375000   \n",
       "492  INOX Air Products Private Limited           375000   \n",
       "493         Dravin Engineering Pvt Ltd           375000   \n",
       "494  INOX Air Products Private Limited           375000   \n",
       "\n",
       "                             Branch  Unnamed: 6  \n",
       "0    Computer Science & Engineering         NaN  \n",
       "1    Computer Science & Engineering         NaN  \n",
       "2    Computer Science & Engineering         NaN  \n",
       "3    Computer Science & Engineering         NaN  \n",
       "4    Computer Science & Engineering         NaN  \n",
       "..                              ...         ...  \n",
       "490               Civil Engineering         NaN  \n",
       "491            Chemical Engineering         NaN  \n",
       "492          Mechanical Engineering         NaN  \n",
       "493          Mechanical Engineering         NaN  \n",
       "494          Mechanical Engineering         NaN  \n",
       "\n",
       "[495 rows x 7 columns]"
      ]
     },
     "execution_count": 3,
     "metadata": {},
     "output_type": "execute_result"
    }
   ],
   "source": [
    "import pandas as pd\n",
    "df=pd.read_csv('placement.csv')\n",
    "df"
   ]
  },
  {
   "cell_type": "code",
   "execution_count": 4,
   "metadata": {},
   "outputs": [
    {
     "data": {
      "text/plain": [
       "132"
      ]
     },
     "execution_count": 4,
     "metadata": {},
     "output_type": "execute_result"
    }
   ],
   "source": [
    "df1 = df[df['Branch']=='Computer Science & Engineering']\n",
    "len(df1)"
   ]
  },
  {
   "cell_type": "code",
   "execution_count": 7,
   "metadata": {},
   "outputs": [
    {
     "data": {
      "text/plain": [
       "66"
      ]
     },
     "execution_count": 7,
     "metadata": {},
     "output_type": "execute_result"
    }
   ],
   "source": [
    "len(df1[df1['CTC(Rs.inLakhs)']<=950000])"
   ]
  },
  {
   "cell_type": "code",
   "execution_count": 8,
   "metadata": {},
   "outputs": [
    {
     "data": {
      "text/plain": [
       "12"
      ]
     },
     "execution_count": 8,
     "metadata": {},
     "output_type": "execute_result"
    }
   ],
   "source": [
    "len(df1[df1['Company']=='JPMorgan Chase & Co.'])"
   ]
  },
  {
   "cell_type": "code",
   "execution_count": 9,
   "metadata": {},
   "outputs": [
    {
     "data": {
      "text/plain": [
       "50"
      ]
     },
     "execution_count": 9,
     "metadata": {},
     "output_type": "execute_result"
    }
   ],
   "source": [
    "df2=set(df['Company'])\n",
    "len(df2)"
   ]
  },
  {
   "cell_type": "code",
   "execution_count": 10,
   "metadata": {},
   "outputs": [
    {
     "name": "stdout",
     "output_type": "stream",
     "text": [
      "600000\n"
     ]
    },
    {
     "data": {
      "text/plain": [
       "33"
      ]
     },
     "execution_count": 10,
     "metadata": {},
     "output_type": "execute_result"
    }
   ],
   "source": [
    "a=df[df['Branch']=='Computer Science & Engineering']\n",
    "b=a['CTC(Rs.inLakhs)'].mode()[0]\n",
    "print(b)\n",
    "len(a[a['CTC(Rs.inLakhs)']==b])"
   ]
  },
  {
   "cell_type": "code",
   "execution_count": 15,
   "metadata": {},
   "outputs": [
    {
     "data": {
      "text/plain": [
       "[425000,\n",
       " 425000,\n",
       " 445000,\n",
       " 445000,\n",
       " 445000,\n",
       " 445000,\n",
       " 445000,\n",
       " 445000,\n",
       " 450000,\n",
       " 450000,\n",
       " 450000,\n",
       " 450000,\n",
       " 450000,\n",
       " 450000,\n",
       " 450000,\n",
       " 475000,\n",
       " 500000,\n",
       " 500000,\n",
       " 520000,\n",
       " 600000,\n",
       " 600000,\n",
       " 600000,\n",
       " 600000,\n",
       " 600000,\n",
       " 600000,\n",
       " 600000,\n",
       " 600000,\n",
       " 600000,\n",
       " 600000,\n",
       " 600000,\n",
       " 600000,\n",
       " 600000,\n",
       " 600000,\n",
       " 600000,\n",
       " 600000,\n",
       " 600000,\n",
       " 600000,\n",
       " 600000,\n",
       " 600000,\n",
       " 600000,\n",
       " 600000,\n",
       " 600000,\n",
       " 600000,\n",
       " 600000,\n",
       " 600000,\n",
       " 600000,\n",
       " 600000,\n",
       " 600000,\n",
       " 600000,\n",
       " 600000,\n",
       " 600000,\n",
       " 600000,\n",
       " 650000,\n",
       " 760000,\n",
       " 760000,\n",
       " 760000,\n",
       " 760000,\n",
       " 760000,\n",
       " 760000,\n",
       " 760000,\n",
       " 760000,\n",
       " 760000,\n",
       " 800000,\n",
       " 900000,\n",
       " 900000,\n",
       " 900000,\n",
       " 1000000,\n",
       " 1000000,\n",
       " 1000000,\n",
       " 1050000,\n",
       " 1050000,\n",
       " 1050000,\n",
       " 1050000,\n",
       " 1100000,\n",
       " 1100000,\n",
       " 1100000,\n",
       " 1200000,\n",
       " 1332000,\n",
       " 1332000,\n",
       " 1332000,\n",
       " 1332000,\n",
       " 1332000,\n",
       " 1332000,\n",
       " 1332000,\n",
       " 1332000,\n",
       " 1332000,\n",
       " 1332000,\n",
       " 1600000,\n",
       " 1600000,\n",
       " 1630000,\n",
       " 1770000,\n",
       " 1770000,\n",
       " 1770000,\n",
       " 1770000,\n",
       " 1770000,\n",
       " 1770000,\n",
       " 1770000,\n",
       " 1900000,\n",
       " 1900000,\n",
       " 1900000,\n",
       " 1900000,\n",
       " 1900000,\n",
       " 1900000,\n",
       " 1900000,\n",
       " 1900000,\n",
       " 1900000,\n",
       " 1900000,\n",
       " 1975000,\n",
       " 1975000,\n",
       " 1975000,\n",
       " 1975000,\n",
       " 1975000,\n",
       " 1975000,\n",
       " 1975000,\n",
       " 1975000,\n",
       " 1975000,\n",
       " 1975000,\n",
       " 1975000,\n",
       " 1975000,\n",
       " 2145666,\n",
       " 2145666,\n",
       " 2145666,\n",
       " 2145666,\n",
       " 2200000,\n",
       " 2635000,\n",
       " 4400000,\n",
       " 4450000,\n",
       " 4450000,\n",
       " 4450000,\n",
       " 4900000,\n",
       " 4900000,\n",
       " 5990000]"
      ]
     },
     "execution_count": 15,
     "metadata": {},
     "output_type": "execute_result"
    }
   ],
   "source": [
    "d=list(df1['CTC(Rs.inLakhs)'])\n",
    "d.sort()\n",
    "d"
   ]
  },
  {
   "cell_type": "code",
   "execution_count": 18,
   "metadata": {},
   "outputs": [
    {
     "data": {
      "text/html": [
       "<div>\n",
       "<style scoped>\n",
       "    .dataframe tbody tr th:only-of-type {\n",
       "        vertical-align: middle;\n",
       "    }\n",
       "\n",
       "    .dataframe tbody tr th {\n",
       "        vertical-align: top;\n",
       "    }\n",
       "\n",
       "    .dataframe thead th {\n",
       "        text-align: right;\n",
       "    }\n",
       "</style>\n",
       "<table border=\"1\" class=\"dataframe\">\n",
       "  <thead>\n",
       "    <tr style=\"text-align: right;\">\n",
       "      <th></th>\n",
       "      <th>Sl.No.</th>\n",
       "      <th>Roll No.</th>\n",
       "      <th>Name of the Student</th>\n",
       "      <th>Company</th>\n",
       "      <th>CTC(Rs.inLakhs)</th>\n",
       "      <th>Branch</th>\n",
       "      <th>Unnamed: 6</th>\n",
       "    </tr>\n",
       "  </thead>\n",
       "  <tbody>\n",
       "    <tr>\n",
       "      <th>476</th>\n",
       "      <td>477</td>\n",
       "      <td>1.601210e+11</td>\n",
       "      <td>Sharon Joseph Enduri</td>\n",
       "      <td>UST</td>\n",
       "      <td>425000</td>\n",
       "      <td>Computer Science &amp; Engineering</td>\n",
       "      <td>NaN</td>\n",
       "    </tr>\n",
       "    <tr>\n",
       "      <th>477</th>\n",
       "      <td>478</td>\n",
       "      <td>1.601210e+11</td>\n",
       "      <td>Shirisha Siddireddy</td>\n",
       "      <td>UST</td>\n",
       "      <td>425000</td>\n",
       "      <td>Computer Science &amp; Engineering</td>\n",
       "      <td>NaN</td>\n",
       "    </tr>\n",
       "  </tbody>\n",
       "</table>\n",
       "</div>"
      ],
      "text/plain": [
       "     Sl.No.      Roll No.   Name of the Student Company  CTC(Rs.inLakhs)  \\\n",
       "476     477  1.601210e+11  Sharon Joseph Enduri     UST           425000   \n",
       "477     478  1.601210e+11   Shirisha Siddireddy     UST           425000   \n",
       "\n",
       "                             Branch  Unnamed: 6  \n",
       "476  Computer Science & Engineering         NaN  \n",
       "477  Computer Science & Engineering         NaN  "
      ]
     },
     "execution_count": 18,
     "metadata": {},
     "output_type": "execute_result"
    }
   ],
   "source": [
    "df1[df1['Branch']=='Computer Science & Engineering'][df1['CTC(Rs.inLakhs)']==d[0]]"
   ]
  },
  {
   "cell_type": "code",
   "execution_count": null,
   "metadata": {},
   "outputs": [],
   "source": []
  }
 ],
 "metadata": {
  "kernelspec": {
   "display_name": "Python 3",
   "language": "python",
   "name": "python3"
  },
  "language_info": {
   "codemirror_mode": {
    "name": "ipython",
    "version": 3
   },
   "file_extension": ".py",
   "mimetype": "text/x-python",
   "name": "python",
   "nbconvert_exporter": "python",
   "pygments_lexer": "ipython3",
   "version": "3.11.9"
  }
 },
 "nbformat": 4,
 "nbformat_minor": 2
}
